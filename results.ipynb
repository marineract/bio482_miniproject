{
 "cells": [
  {
   "cell_type": "markdown",
   "metadata": {
    "id": "BdrrS-OMtkti"
   },
   "source": [
    "# Investigate burst firing\n"
   ]
  },
  {
   "cell_type": "markdown",
   "metadata": {
    "id": "iyoYGsxutktj"
   },
   "source": [
    "## Imports"
   ]
  },
  {
   "cell_type": "code",
   "execution_count": null,
   "metadata": {
    "id": "CDxu0anFtktj"
   },
   "outputs": [],
   "source": [
    "import os\n",
    "import sys\n",
    "import numpy as np\n",
    "import pandas as pd\n",
    "import scipy.stats\n",
    "#%matplotlib widget\n",
    "import matplotlib.pyplot as plt\n",
    "import seaborn as sns\n",
    "\n",
    "import pickle\n"
   ]
  },
  {
   "cell_type": "code",
   "execution_count": null,
   "metadata": {
    "colab": {
     "base_uri": "https://localhost:8080/"
    },
    "id": "0WRtvFj8uSBW",
    "outputId": "c1c9a1e6-c1b6-48ce-cb53-71a4b580630d"
   },
   "outputs": [],
   "source": [
    "from helpers import *\n",
    "from utils import remove_top_right_frame, jitter_scatterplot"
   ]
  },
  {
   "cell_type": "code",
   "execution_count": null,
   "metadata": {
    "id": "iXpcGU-Atktj"
   },
   "outputs": [],
   "source": [
    "base_path = os.getcwd()\n",
    "base_path = base_path.replace('notebooks', 'scripts') # note: if you have notebooks twice in your base_path, this won't work\n",
    "sys.path.insert(1, base_path)\n"
   ]
  },
  {
   "cell_type": "markdown",
   "metadata": {
    "id": "bbxDT5pJtktj",
    "jp-MarkdownHeadingCollapsed": true
   },
   "source": [
    "## Load Original Data (Only Run Once)"
   ]
  },
  {
   "cell_type": "code",
   "execution_count": null,
   "metadata": {
    "id": "3O1g2zUc2i5N"
   },
   "outputs": [],
   "source": [
    "with open('data_bio482.pkl', 'rb') as file:\n",
    "    data_df = pickle.load(file)"
   ]
  },
  {
   "cell_type": "markdown",
   "metadata": {
    "id": "V2VPXChAtktk"
   },
   "source": [
    "## Add AP Information (Only Run Once)"
   ]
  },
  {
   "cell_type": "markdown",
   "metadata": {
    "id": "Gj9rOdAYtktk"
   },
   "source": [
    "Using the Function_Detect_APs function, we can extract the details of the APs per sweep. For each entry in the original dataframe, we append the information about the APs in the Sweep_MembranePotential."
   ]
  },
  {
   "cell_type": "code",
   "execution_count": null,
   "metadata": {
    "id": "HvHel9LFtktk"
   },
   "outputs": [],
   "source": [
    "def explain_ap(ap_params):\n",
    "    return {\n",
    "        'ap_thresh_vm': ap_params[1],\n",
    "        'ap_peak_times': ap_params[2],\n",
    "        'ap_peak_vm': ap_params[3],\n",
    "        'ap_peak_amp': ap_params[4],\n",
    "        'ap_duration': ap_params[5]\n",
    "    }"
   ]
  },
  {
   "cell_type": "code",
   "execution_count": null,
   "metadata": {
    "id": "jkQgik-QwHMH"
   },
   "outputs": [],
   "source": [
    "def process_sweep(row):\n",
    "    \"\"\"Process a single row to detect and explain action potentials.\"\"\"\n",
    "    sr_vm = row['Sweep_MembranePotential_SamplingRate']\n",
    "    ap_vm_deriv_thresh = row['Cell_APThreshold_Slope']\n",
    "    potential_across_time = row['Sweep_MembranePotential']\n",
    "\n",
    "    # Detect action potentials\n",
    "    ap_params = Function_Detect_APs(potential_across_time, sr_vm, ap_vm_deriv_thresh)\n",
    "\n",
    "    # Return a dictionary of explained APs\n",
    "    return {ap[0]: explain_ap(ap) for ap in ap_params}\n",
    "\n"
   ]
  },
  {
   "cell_type": "code",
   "execution_count": null,
   "metadata": {},
   "outputs": [],
   "source": []
  },
  {
   "cell_type": "code",
   "execution_count": null,
   "metadata": {
    "id": "GWWo_Ycjtktk"
   },
   "outputs": [],
   "source": [
    "# Apply the function to each row\n",
    "ap_info = data_df.apply(process_sweep, axis=1)\n"
   ]
  },
  {
   "cell_type": "code",
   "execution_count": null,
   "metadata": {
    "colab": {
     "base_uri": "https://localhost:8080/",
     "height": 458
    },
    "id": "NNFYOiiexkcc",
    "outputId": "df3a4ee2-52fe-4653-937a-420fb97749f1"
   },
   "outputs": [],
   "source": [
    "ap_info"
   ]
  },
  {
   "cell_type": "code",
   "execution_count": null,
   "metadata": {
    "id": "rDFYiaILtktl"
   },
   "outputs": [],
   "source": [
    "data_df['ap_info'] = ap_info\n"
   ]
  },
  {
   "cell_type": "code",
   "execution_count": null,
   "metadata": {
    "id": "2cY7C9cuxilW"
   },
   "outputs": [],
   "source": [
    "#path = \"/content/drive/MyDrive/NSCCM/\"\n",
    "\n",
    "file_to_save = \"data_with_AP_info\"\n",
    "#data_df.to_pickle(f'{path}{file_to_save}.pkl')\n",
    "data_df.to_pickle(f'{file_to_save}.pkl')"
   ]
  },
  {
   "cell_type": "markdown",
   "metadata": {
    "id": "VpHEvUYw2T5C"
   },
   "source": [
    "## Import New Pickle"
   ]
  },
  {
   "cell_type": "markdown",
   "metadata": {},
   "source": [
    "No need to run last 2 sections if you already have data_with_AP_info.pkl file in your directory. It is too large to push to github."
   ]
  },
  {
   "cell_type": "code",
   "execution_count": null,
   "metadata": {
    "id": "2c2bRqsZ2TXq"
   },
   "outputs": [],
   "source": [
    "with open('data_with_AP_info.pkl', 'rb') as file:\n",
    "    data_df = pickle.load(file)"
   ]
  },
  {
   "cell_type": "markdown",
   "metadata": {
    "id": "IsAEoGTgtktk"
   },
   "source": [
    "## Visualise Data:"
   ]
  },
  {
   "cell_type": "code",
   "execution_count": null,
   "metadata": {
    "colab": {
     "base_uri": "https://localhost:8080/",
     "height": 429
    },
    "id": "JAtg-5Ydtktk",
    "outputId": "352042c7-48fd-4489-e235-f9ea9191cdf0"
   },
   "outputs": [],
   "source": [
    "data_df.head()"
   ]
  },
  {
   "cell_type": "markdown",
   "metadata": {
    "id": "TK4H-y4ztktk"
   },
   "source": [
    "Each entry in the dataframe represents some sweep. There may be multiple sweeps per cell (as represented by Sweep_Counter) and so multiple entries with the same Cell_ID. Each entry has a Membrane Potential vs Time measure which can be visualised below:"
   ]
  },
  {
   "cell_type": "code",
   "execution_count": null,
   "metadata": {
    "id": "foMp9tuBtktl",
    "outputId": "086b2065-9b36-4325-d814-c3e8b5ac464f"
   },
   "outputs": [],
   "source": [
    "def plot_aps(data_df, sweep_num, save_figure=False):\n",
    "\n",
    "    sweep = data_df.iloc[sweep_num]\n",
    "\n",
    "    sr_vm = sweep['Sweep_MembranePotential_SamplingRate']\n",
    "    membrane_potential = sweep['Sweep_MembranePotential']\n",
    "    \n",
    "    time = [i/sr_vm for i in range(len(membrane_potential))]\n",
    "    \n",
    "    ap_peak_times = np.array([ap[\"ap_peak_times\"] for ap in sweep[\"ap_info\"].values()])\n",
    "    ap_peak_vm = np.array([ap[\"ap_peak_vm\"] for ap in sweep[\"ap_info\"].values()])\n",
    "    ap_thresh_vm = np.array([ap[\"ap_thresh_vm\"] for ap in sweep[\"ap_info\"].values()])\n",
    "    ap_thresh_times = np.array([key for key in sweep[\"ap_info\"].keys()])\n",
    "\n",
    "    fig, ax = plt.subplots(1,1, figsize=(10,3), dpi=150)\n",
    "    \n",
    "    ax.set_title(f'APs for Sweep {sweep_num}')\n",
    "    ax.plot(time, membrane_potential, lw=0.5,  zorder=0)\n",
    "    ax.scatter(ap_peak_times, ap_peak_vm, lw=0.5, marker='+', color='r')\n",
    "    ax.scatter(ap_thresh_times, ap_thresh_vm, lw=0.1, marker='o', color='b')\n",
    "    ax.set_xlabel('Time (s)')\n",
    "    ax.set_ylabel('Vm (V)')\n",
    "    plt.xlim(6,6.5)\n",
    "    \n",
    "    if save_figure:\n",
    "        # Save figure\n",
    "        fname = os.path.join('images', f'Example_Cell_{sweep_num}.png')\n",
    "        plt.savefig(fname=fname, dpi='figure', format='png', bbox_inches='tight')\n"
   ]
  },
  {
   "cell_type": "code",
   "execution_count": null,
   "metadata": {
    "id": "GyP1DJtstktl"
   },
   "outputs": [],
   "source": [
    "plot_aps(data_df, 0, save_figure = True)"
   ]
  },
  {
   "cell_type": "markdown",
   "metadata": {},
   "source": [
    "## Identify Bursts for one sweep "
   ]
  },
  {
   "cell_type": "code",
   "execution_count": null,
   "metadata": {},
   "outputs": [],
   "source": [
    "ap_df = pd.DataFrame.from_dict(data_df.ap_info[0], orient='index')"
   ]
  },
  {
   "cell_type": "code",
   "execution_count": null,
   "metadata": {},
   "outputs": [],
   "source": []
  },
  {
   "cell_type": "code",
   "execution_count": null,
   "metadata": {},
   "outputs": [],
   "source": [
    "ap_df['peak_end_time'] = ap_df.index + ap_df['ap_duration'] / 1000\n",
    "ap_df['time_since_last_AP'] = ap_df.index - ap_df['peak_end_time'].shift(1) \n",
    "ap_df['time_since_last_AP_2x'] = ap_df.index - ap_df['peak_end_time'].shift(2) \n",
    "ap_df['is_in_burst'] = ap_df['time_since_last_AP_2x'] < .03 \n",
    "ap_df['is_in_burst'] = ap_df['is_in_burst'] | ap_df['is_in_burst'].shift(-1) | ap_df['is_in_burst'].shift(-2)"
   ]
  },
  {
   "cell_type": "code",
   "execution_count": null,
   "metadata": {},
   "outputs": [],
   "source": [
    "ap_df.head()"
   ]
  },
  {
   "cell_type": "code",
   "execution_count": null,
   "metadata": {},
   "outputs": [],
   "source": [
    "def burst_times(ap_df):\n",
    "    bursts = []\n",
    "    i = 0\n",
    "    while i < len(ap_df):\n",
    "        row = ap_df.iloc[i]\n",
    "        is_in_burst = row['is_in_burst']\n",
    "        if is_in_burst:\n",
    "            burst_start = row.name\n",
    "            for j in range(i, len(ap_df)):\n",
    "                row_1 = ap_df.iloc[j]\n",
    "                if j == len(ap_df)-1:\n",
    "                    # we have reached last peak in sweep\n",
    "                    burst_end = row_1['peak_end_time']\n",
    "                    bursts.append((burst_start, burst_end, j-i+1))\n",
    "                    break\n",
    "                row_2 = ap_df.iloc[j+1]\n",
    "                if not row_2['is_in_burst']:\n",
    "                    # we have reached peak which is not in this burst\n",
    "                    burst_end = row_1['peak_end_time']\n",
    "                    bursts.append((burst_start, burst_end, j-i+1))\n",
    "                    break\n",
    "                else:\n",
    "                    continue\n",
    "            i = j\n",
    "        i += 1\n",
    "    return bursts"
   ]
  },
  {
   "cell_type": "code",
   "execution_count": null,
   "metadata": {},
   "outputs": [],
   "source": [
    "burst_times(ap_df)"
   ]
  },
  {
   "cell_type": "markdown",
   "metadata": {},
   "source": [
    "## Bursts for all sweeps"
   ]
  },
  {
   "cell_type": "code",
   "execution_count": null,
   "metadata": {},
   "outputs": [],
   "source": [
    "burst_times_per_sweep = []\n",
    "\n",
    "for i in range(len(data_df)):\n",
    "    if i % 10 == 0:\n",
    "        print(f\"completing sweep {i+1}\")\n",
    "    ap_df = pd.DataFrame.from_dict(data_df.ap_info[i], orient='index')\n",
    "    if len(ap_df):\n",
    "        ap_df['peak_end_time'] = ap_df.index + ap_df['ap_duration'] / 1000\n",
    "        ap_df['time_since_last_AP'] = ap_df.index - ap_df['peak_end_time'].shift(1) \n",
    "        ap_df['time_since_last_AP_2x'] = ap_df.index - ap_df['peak_end_time'].shift(2) \n",
    "        ap_df['is_final_in_burst'] = ap_df['time_since_last_AP_2x'] < .03 \n",
    "        ap_df['is_in_burst'] = ap_df['is_final_in_burst'] | ap_df['is_final_in_burst'].shift(-1) | ap_df['is_final_in_burst'].shift(-2)\n",
    "        burst_info = burst_times(ap_df)\n",
    "        burst_times_per_sweep.append(burst_info)\n",
    "        print(f\"found {len(burst_info)} bursts\")\n",
    "    else:\n",
    "        print(f\"found no peaks\")\n",
    "        burst_times_per_sweep.append([])\n",
    "    "
   ]
  },
  {
   "cell_type": "code",
   "execution_count": null,
   "metadata": {},
   "outputs": [],
   "source": [
    "file_path = \"data_with_burst_info.txt\"\n",
    "\n",
    "# Write the list to a text file\n",
    "with open(file_path, \"w\") as file:\n",
    "    for item in burst_times_per_sweep:\n",
    "        file.write(f\"{item}\\n\")"
   ]
  },
  {
   "cell_type": "markdown",
   "metadata": {},
   "source": [
    "#### Add burst info for each sweep to the data_df dataftame   "
   ]
  },
  {
   "cell_type": "code",
   "execution_count": null,
   "metadata": {},
   "outputs": [],
   "source": [
    "# add a column to data_df containing burst_times_per_sweep\n",
    "# each sweep has format [(start, stop, nb_of_ap), (start, stop, nb_of_ap), ...]\n",
    "data_df['burst_info'] = burst_times_per_sweep\n",
    "\n",
    "# add col for nb of burts \n",
    "data_df['nb_of_bursts'] = data_df['burst_info'].apply(len)\n",
    "\n",
    "#add col for mean burst duration ->TODO check is there is a lot of diversity in the duration : pertinent to do mean ?\n",
    "def mean_burst_duration(burst_inf):\n",
    "    if not burst_inf:\n",
    "        return 0\n",
    "    durations = [stop-start for start, stop, _ in burst_inf]\n",
    "    return sum(durations)/len(durations)\n",
    "\n",
    "data_df['mean_burst_duration_sweep'] = data_df['burst_info'].apply(lambda x: mean_burst_duration(x) )"
   ]
  },
  {
   "cell_type": "markdown",
   "metadata": {},
   "source": [
    "## Analyse bursting behavior of neurons "
   ]
  },
  {
   "cell_type": "markdown",
   "metadata": {},
   "source": [
    "### Define metrics to categorise neurons according to their bursting behavior:\n",
    "- mean number of burst \n",
    "- mean burst duration"
   ]
  },
  {
   "cell_type": "code",
   "execution_count": null,
   "metadata": {},
   "outputs": [],
   "source": [
    "def plot_metrics(df_metric, x):\n",
    "    '''\n",
    "    plots subplots of all metrics for x\n",
    "    \n",
    "    - df_metric (DataFrame): dataframe with 1 column x and multiple colums for metrics (but no other kind of columns)\n",
    "    - x (str): the x axis (ex 'Cell_Type' or 'Cell_layer') \n",
    "    '''\n",
    "    # create list of metrics : columns except x\n",
    "    metrics = df_metric.columns.difference([x])\n",
    "\n",
    "    # Create subplots dynamically\n",
    "    fig, axes = plt.subplots(1, len(metrics), figsize=(6 * len(metrics), 6), sharey=False)\n",
    "\n",
    "    # color palette based on the unique x values\n",
    "    palette_x = sns.color_palette(\"Set2\", n_colors=len(df_metric[x].unique()))\n",
    "\n",
    "    # Iterate through metrics and plot each one\n",
    "    for ax, metric in zip(axes, metrics):\n",
    "        ax.bar(df_metric[x], df_metric[metric], color=palette_x)\n",
    "        ax.set_xlabel(x)\n",
    "        ax.set_ylabel(metric.replace('_', ' ').capitalize())\n",
    "        ax.set_title(f'{metric.replace(\"_\", \" \").capitalize()} by {x}')\n",
    "\n",
    "    plt.tight_layout()\n",
    "    plt.show()"
   ]
  },
  {
   "cell_type": "markdown",
   "metadata": {},
   "source": [
    "#### Per cell type"
   ]
  },
  {
   "cell_type": "code",
   "execution_count": null,
   "metadata": {},
   "outputs": [],
   "source": [
    "# Calculate metrics\n",
    "mean_nb_burst_cell_type = data_df.groupby('Cell_Type')['nb_of_bursts'].mean()\n",
    "mean_burst_duration_cell_type = data_df.groupby('Cell_Type')['mean_burst_duration_sweep'].mean()\n",
    "\n",
    "# Create DataFrame and combine metrics\n",
    "cell_type_metrics = pd.DataFrame({\n",
    "    'Cell_Type': mean_nb_burst_cell_type.index,\n",
    "    'mean_nb_bursts': mean_nb_burst_cell_type.values,\n",
    "    'mean_burst_duration': mean_burst_duration_cell_type.values\n",
    "})\n",
    "cell_type_metrics"
   ]
  },
  {
   "cell_type": "code",
   "execution_count": null,
   "metadata": {},
   "outputs": [],
   "source": [
    "plot_metrics(cell_type_metrics, 'Cell_Type')"
   ]
  },
  {
   "cell_type": "markdown",
   "metadata": {},
   "source": [
    "#### Per cell layer"
   ]
  },
  {
   "cell_type": "code",
   "execution_count": null,
   "metadata": {},
   "outputs": [],
   "source": [
    "# Calculate metrics\n",
    "mean_nb_burst_layer = data_df.groupby('Cell_Layer')['nb_of_bursts'].mean()\n",
    "mean_burst_duration_layer = data_df.groupby('Cell_Layer')['mean_burst_duration_sweep'].mean()\n",
    "\n",
    "# Create DataFrame and combine metrics\n",
    "layer_metrics = pd.DataFrame({\n",
    "    'Cell_Layer': mean_nb_burst_layer.index,\n",
    "    'mean_nb_bursts': mean_nb_burst_layer.values,\n",
    "    'mean_burst_duration': mean_burst_duration_layer.values\n",
    "})"
   ]
  },
  {
   "cell_type": "code",
   "execution_count": null,
   "metadata": {},
   "outputs": [],
   "source": [
    "plot_metrics(layer_metrics,'Cell_Layer')"
   ]
  },
  {
   "cell_type": "markdown",
   "metadata": {},
   "source": [
    "### Cell depth "
   ]
  },
  {
   "cell_type": "code",
   "execution_count": null,
   "metadata": {},
   "outputs": [],
   "source": [
    "# Calculate metrics\n",
    "mean_nb_burst_depth = data_df.groupby('Cell_Depth')['nb_of_bursts'].mean()\n",
    "mean_burst_duration_depth = data_df.groupby('Cell_Depth')['mean_burst_duration_sweep'].mean()\n",
    "\n",
    "# Create DataFrame and combine metrics\n",
    "depth_metrics = pd.DataFrame({\n",
    "    'Cell_Depth': mean_nb_burst_depth.index,\n",
    "    'mean_nb_bursts': mean_nb_burst_depth.values,\n",
    "    'mean_burst_duration': mean_burst_duration_depth.values\n",
    "})"
   ]
  },
  {
   "cell_type": "code",
   "execution_count": null,
   "metadata": {},
   "outputs": [],
   "source": [
    "plot_metrics(depth_metrics, 'Cell_Depth')"
   ]
  },
  {
   "cell_type": "markdown",
   "metadata": {},
   "source": [
    "### Targeted brain area"
   ]
  },
  {
   "cell_type": "code",
   "execution_count": null,
   "metadata": {},
   "outputs": [],
   "source": [
    "# Calculate metrics\n",
    "mean_nb_burst_area = data_df.groupby('Cell_TargetedBrainArea')['nb_of_bursts'].mean()\n",
    "mean_burst_duration_area = data_df.groupby('Cell_TargetedBrainArea')['mean_burst_duration_sweep'].mean()\n",
    "\n",
    "# Create DataFrame and combine metrics\n",
    "area_metrics = pd.DataFrame({\n",
    "    'Cell_TargetedBrainArea': mean_nb_burst_area.index,\n",
    "    'mean_nb_bursts': mean_nb_burst_area.values,\n",
    "    'mean_burst_duration': mean_burst_duration_area.values\n",
    "})"
   ]
  },
  {
   "cell_type": "code",
   "execution_count": null,
   "metadata": {},
   "outputs": [],
   "source": [
    "plot_metrics(area_metrics,'Cell_TargetedBrainArea')"
   ]
  }
 ],
 "metadata": {
  "colab": {
   "provenance": []
  },
  "kernelspec": {
   "display_name": "Python 3 (ipykernel)",
   "language": "python",
   "name": "python3"
  },
  "language_info": {
   "codemirror_mode": {
    "name": "ipython",
    "version": 3
   },
   "file_extension": ".py",
   "mimetype": "text/x-python",
   "name": "python",
   "nbconvert_exporter": "python",
   "pygments_lexer": "ipython3",
   "version": "3.12.7"
  }
 },
 "nbformat": 4,
 "nbformat_minor": 4
}
